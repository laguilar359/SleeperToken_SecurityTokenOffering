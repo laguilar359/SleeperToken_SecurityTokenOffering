{
 "cells": [
  {
   "cell_type": "code",
   "execution_count": 1,
   "metadata": {
    "scrolled": true
   },
   "outputs": [
    {
     "data": {
      "application/vnd.jupyter.widget-view+json": {
       "model_id": "8d302a8dc2d94195a42fa661276e520d",
       "version_major": 2,
       "version_minor": 0
      },
      "text/plain": [
       "FigureWidget({\n",
       "    'data': [{'line': {'color': 'gold'},\n",
       "              'name': 'EUR_USD',\n",
       "              'type':…"
      ]
     },
     "metadata": {},
     "output_type": "display_data"
    }
   ],
   "source": [
    "# IMPORTS\n",
    "import v20, os, zmq, time\n",
    "import pandas as pd\n",
    "from dotenv import load_dotenv\n",
    "from datetime import datetime\n",
    "import plotly.graph_objects as go\n",
    "from collections import deque\n",
    "\n",
    "load_dotenv(verbose=True)\n",
    "\n",
    "# ACCOUNT / ACCESS\n",
    "access_token = os.getenv(\"OANDA_ACCESS_TOKEN\")\n",
    "account_id = os.getenv(\"OANDA_ACCOUNT_ID\")\n",
    "account_type = os.getenv(\"OANDA_ACCOUNT_TYPE\")\n",
    "\n",
    "hostname = 'api-fxpractice.oanda.com'\n",
    "stream_hostname = 'stream-fxpractice.oanda.com'\n",
    "\n",
    "# CONTEXT OBJECT\n",
    "ctx_stream = v20.Context(\n",
    "            hostname=stream_hostname,\n",
    "            port=443,\n",
    "            token=access_token,\n",
    "            stream_timeout=50)\n",
    "\n",
    "instrument = \"EUR_USD\"\n",
    "stop_stream = False\n",
    "\n",
    "response = ctx_stream.pricing.stream(account_id, snapshot=True, instruments=instrument)\n",
    "\n",
    "def stream_data(instrument=\"EUR_USD\", stop=None, ret=False):\n",
    "        '''\n",
    "        Starts a real-time data stream.\n",
    "\n",
    "        Parameters\n",
    "        ==========\n",
    "        instrument: string\n",
    "            valid instrument name\n",
    "        '''\n",
    "        \n",
    "        df = pd.DataFrame()\n",
    "        times = deque(maxlen=50)\n",
    "        prices = deque(maxlen=50)\n",
    "        \n",
    "        stream_instrument = instrument\n",
    "        ticks = 0\n",
    "        response = ctx_stream.pricing.stream(\n",
    "            account_id, snapshot=True,\n",
    "            instruments=\"EUR_USD\")\n",
    "        msgs = []\n",
    "        for msg_type, msg in response.parts():\n",
    "            msgs.append(msg)\n",
    "            # print(msg_type, msg)\n",
    "            if msg_type == 'pricing.ClientPrice':\n",
    "                \n",
    "                ticks += 1\n",
    "                t = msg.time\n",
    "                bids = msg.bids[0].dict()['price']\n",
    "                asks = msg.asks[0].dict()['price']\n",
    "                \n",
    "                prices.append(asks)\n",
    "                times.append(t)\n",
    "                df = df.append(pd.DataFrame({instrument:float(asks)}, index=[t]))\n",
    "                df['SMA 20'] = df[instrument].rolling(20).mean()\n",
    "                df['SMA 50'] = df[instrument].rolling(50).mean()\n",
    "                \n",
    "                fig.data[0].x = df.index\n",
    "                fig.data[1].x = df.index\n",
    "                fig.data[2].x = df.index\n",
    "                fig.data[0].y = df[instrument]\n",
    "                fig.data[1].y = df['SMA 20']\n",
    "                fig.data[2].y = df['SMA 50']\n",
    "                \n",
    "                if stop is not None:\n",
    "                    if ticks >= stop:\n",
    "                        if ret:\n",
    "                            return msgs\n",
    "                        break\n",
    "            if stop_stream:\n",
    "                if ret:\n",
    "                    return msgs\n",
    "                break\n",
    "                \n",
    "fig = go.FigureWidget()\n",
    "fig.add_scatter(name=instrument, line=dict(color='gold'))\n",
    "fig.add_scatter(name=\"SMA 20\", line=dict(color='firebrick', width=2, dash='dot'), mode='lines+markers')\n",
    "fig.add_scatter(name=\"SMA 50\", line=dict(color='royalblue', width=2, dash='dot'), mode='lines+markers')\n",
    "fig"
   ]
  },
  {
   "cell_type": "code",
   "execution_count": null,
   "metadata": {
    "scrolled": false
   },
   "outputs": [],
   "source": [
    "stream_data()"
   ]
  },
  {
   "cell_type": "code",
   "execution_count": null,
   "metadata": {},
   "outputs": [],
   "source": []
  }
 ],
 "metadata": {
  "kernelspec": {
   "display_name": "Python 3",
   "language": "python",
   "name": "python3"
  },
  "language_info": {
   "codemirror_mode": {
    "name": "ipython",
    "version": 3
   },
   "file_extension": ".py",
   "mimetype": "text/x-python",
   "name": "python",
   "nbconvert_exporter": "python",
   "pygments_lexer": "ipython3",
   "version": "3.7.9"
  }
 },
 "nbformat": 4,
 "nbformat_minor": 4
}
